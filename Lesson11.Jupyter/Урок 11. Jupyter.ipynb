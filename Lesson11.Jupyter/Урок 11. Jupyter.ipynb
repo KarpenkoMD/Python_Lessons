{
 "cells": [
  {
   "cell_type": "markdown",
   "id": "ecaa3117",
   "metadata": {},
   "source": [
    "# Домашнее задание \n",
    "f(x) =(sin(x)/2 + cos(x)/2)2 * sin(x) - это для тех, кто хочет сложное уравнение\n",
    "f(x) = x2 - 6*abs(x) + 8 - это полегче.\n",
    "\n",
    "- Определить корни\n",
    "- Найти интервалы, на которых функция возрастает\n",
    "- Найти интервалы, на которых функция убывает\n",
    "- Построить график\n",
    "- Вычислить вершину\n",
    "- Определить промежутки, на котором f > 0\n",
    "- Определить промежутки, на котором f < 0\n"
   ]
  },
  {
   "cell_type": "code",
   "execution_count": 99,
   "id": "d2444a80",
   "metadata": {},
   "outputs": [],
   "source": [
    "from sympy import *\n",
    "\n",
    "x = Symbol('x', real=True)\n",
    "f = x**2 - 6 * abs(x) + 8\n",
    "f1 = x**2 - 6 * (-x) + 8\n",
    "f2 = x**2 - 6 * x + 8"
   ]
  },
  {
   "cell_type": "code",
   "execution_count": 103,
   "id": "c05f7fe0",
   "metadata": {
    "scrolled": true
   },
   "outputs": [
    {
     "data": {
      "image/png": "[encoded data removed]",
      "text/plain": [
       "<Figure size 432x288 with 1 Axes>"
      ]
     },
     "metadata": {
      "needs_background": "light"
     },
     "output_type": "display_data"
    }
   ],
   "source": [
    "p1 = plot(f)"
   ]
  },
  {
   "cell_type": "code",
   "execution_count": 110,
   "id": "005dc096",
   "metadata": {},
   "outputs": [
    {
     "name": "stdout",
     "output_type": "stream",
     "text": [
      "Корни урованения f(x)=x**2 - 6*Abs(x) + 8 -> [-4, -2, 2, 4]\n"
     ]
    }
   ],
   "source": [
    "f_roots = solve(f1)+solve(f2)\n",
    "pprint(f'Корни урованения f(x)={f} -> {f_roots}')"
   ]
  },
  {
   "cell_type": "code",
   "execution_count": 208,
   "id": "ff91cd6b",
   "metadata": {},
   "outputs": [
    {
     "name": "stdout",
     "output_type": "stream",
     "text": [
      "Вершинами графика функции f(x)=x**2 - 6*Abs(x) + 8 являются точки:\n",
      "                    [(-3, -1), (0, 8), (3, -1)]                   \n"
     ]
    }
   ],
   "source": [
    "extrems = solve(diff(f1)) + solve(diff(f2))\n",
    "extrems.append(0)\n",
    "extrems.sort()\n",
    "fx = lambdify(x,f)\n",
    "list_grh_vrt=[]\n",
    "for i in extrems:\n",
    "    list_grh_vrt.append(fx(i))\n",
    "list_grh_vrt = list(zip(extrems,list_grh_vrt))\n",
    "pprint(f'Вершинами графика функции f(x)={f} являются точки:\\n {list_grh_vrt}')"
   ]
  },
  {
   "cell_type": "code",
   "execution_count": 194,
   "id": "15f00533",
   "metadata": {},
   "outputs": [
    {
     "name": "stdout",
     "output_type": "stream",
     "text": [
      "На промежутке Interval(-oo, -3) функция убывает \n",
      "                                                \n",
      "На промежутке Interval(-3, 0) функция возрастает\n",
      "                                                \n",
      "  На промежутке Interval(0, 3) функция убывает  \n",
      "                                                \n",
      "На промежутке Interval(3, oo) функция возрастает\n",
      "                                                \n"
     ]
    }
   ],
   "source": [
    "increasing_result =''\n",
    "for i in range(0,len(extrems)+1):\n",
    "    if i == 0:\n",
    "        if extrems[i] <= 0: f_check = f1\n",
    "        else: f_check = f2\n",
    "        if is_increasing(f_check,Interval(-oo,extrems[i])):\n",
    "            increasing_result += f'На промежутке {Interval(-oo,extrems[i])} функция возрастает\\n\\r'\n",
    "        else:\n",
    "            increasing_result += f'На промежутке {Interval(-oo,extrems[i])} функция убывает\\n\\r'\n",
    "    elif i == len(extrems):\n",
    "        if extrems[i-1] <= 0: f_check = f1\n",
    "        else: f_check = f2\n",
    "        if is_increasing(f_check,Interval(extrems[i-1],oo)):\n",
    "            increasing_result += f'На промежутке {Interval(extrems[i-1],oo)} функция возрастает\\n\\r'\n",
    "        else:\n",
    "            increasing_result += f'На промежутке {Interval(extrems[i-1],oo)} функция убывает\\n\\r'\n",
    "    else:\n",
    "        if extrems[i] <= 0: f_check = f1\n",
    "        else: f_check = f2\n",
    "        if is_increasing(f_check,Interval(extrems[i-1],extrems[i])):\n",
    "            increasing_result += f'На промежутке {Interval(extrems[i-1],extrems[i])} функция возрастает\\n\\r'\n",
    "        else:\n",
    "            increasing_result += f'На промежутке {Interval(extrems[i-1],extrems[i])} функция убывает\\n\\r'\n",
    "pprint(increasing_result)"
   ]
  },
  {
   "cell_type": "code",
   "execution_count": 206,
   "id": "3b9195c0",
   "metadata": {},
   "outputs": [
    {
     "name": "stdout",
     "output_type": "stream",
     "text": [
      "На промежутке Interval(-oo, -4) f > 0\n",
      " На промежутке Interval(-4, -2) f < 0\n",
      " На промежутке Interval(-2, 2) f > 0 \n",
      "  На промежутке Interval(2, 4) f < 0 \n",
      "  На промежутке Interval(2, 4) f < 0 \n",
      " На промежутке Interval(4, oo) f > 0 \n"
     ]
    }
   ],
   "source": [
    "func_pos_neg_intervals = ''\n",
    "for i in range(0,len(f_roots)):\n",
    "    if i == 0:\n",
    "        if fx((f_roots[i]+f_roots[i+1])/2) < 0:\n",
    "            func_pos_neg_intervals += f'На промежутке {Interval(-oo,f_roots[i])} f > 0\\n'\n",
    "            func_pos_neg_intervals += f'На промежутке {Interval(f_roots[i],f_roots[i+1])} f < 0\\n'\n",
    "        else:\n",
    "            func_pos_neg_intervals += f'На промежутке {Interval(-oo,f_roots[i])} f < 0\\n'\n",
    "            func_pos_neg_intervals += f'На промежутке {Interval(f_roots[i],f_roots[i+1])} f > 0\\n'\n",
    "    elif i == len(f_roots)-1:\n",
    "        if fx((f_roots[i-1]+f_roots[i])/2) < 0:\n",
    "            func_pos_neg_intervals += f'На промежутке {Interval(f_roots[i-1],f_roots[i])} f < 0\\n'\n",
    "            func_pos_neg_intervals += f'На промежутке {Interval(f_roots[i],oo)} f > 0\\n'\n",
    "        else:\n",
    "            func_pos_neg_intervals += f'На промежутке {Interval(f_roots[i-1],f_roots[i])} f > 0\\n'\n",
    "            func_pos_neg_intervals += f'На промежутке {Interval(f_roots[i],oo)} f < 0\\n'\n",
    "    else:\n",
    "        if fx((f_roots[i]+f_roots[i+1])/2) < 0:\n",
    "            func_pos_neg_intervals += f'На промежутке {Interval(f_roots[i],f_roots[i+1])} f < 0\\n'\n",
    "        else:\n",
    "            func_pos_neg_intervals += f'На промежутке {Interval(f_roots[i],f_roots[i+1])} f > 0\\n'\n",
    "pprint(func_pos_neg_intervals)"
   ]
  },
  {
   "cell_type": "code",
   "execution_count": null,
   "id": "4736576e",
   "metadata": {},
   "outputs": [],
   "source": []
  },
  {
   "cell_type": "code",
   "execution_count": null,
   "id": "e9ce72eb",
   "metadata": {},
   "outputs": [],
   "source": []
  },
  {
   "cell_type": "code",
   "execution_count": null,
   "id": "90b2374e",
   "metadata": {},
   "outputs": [],
   "source": []
  }
 ],
 "metadata": {
  "kernelspec": {
   "display_name": "Python 3 (ipykernel)",
   "language": "python",
   "name": "python3"
  },
  "language_info": {
   "codemirror_mode": {
    "name": "ipython",
    "version": 3
   },
   "file_extension": ".py",
   "mimetype": "text/x-python",
   "name": "python",
   "nbconvert_exporter": "python",
   "pygments_lexer": "ipython3",
   "version": "3.9.12"
  }
 },
 "nbformat": 4,
 "nbformat_minor": 5
}
